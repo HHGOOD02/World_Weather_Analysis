{
 "cells": [
  {
   "cell_type": "code",
   "execution_count": 13,
   "id": "08ea12d4",
   "metadata": {},
   "outputs": [],
   "source": [
    "import random\n",
    "import numpy as np\n",
    "import timeit"
   ]
  },
  {
   "cell_type": "code",
   "execution_count": 14,
   "id": "0cf79279",
   "metadata": {},
   "outputs": [
    {
     "data": {
      "text/plain": [
       "[12.299032004661674,\n",
       " 19.300230766247484,\n",
       " 30.64019149643554,\n",
       " 33.47525974751031,\n",
       " 7.991821173422072,\n",
       " -24.020194479687625,\n",
       " 7.593776455530764,\n",
       " -8.371723792404216,\n",
       " -26.31566773454637,\n",
       " -65.72060347715026]"
      ]
     },
     "execution_count": 14,
     "metadata": {},
     "output_type": "execute_result"
    }
   ],
   "source": [
    "x = 1\n",
    "latitudes = []\n",
    "while x < 11:\n",
    "    random_lat = random.randint(-90, 89) + random.random()\n",
    "    latitudes.append(random_lat)\n",
    "    x += 1\n",
    "    \n",
    "latitudes"
   ]
  },
  {
   "cell_type": "code",
   "execution_count": 15,
   "id": "dfab2bca",
   "metadata": {},
   "outputs": [
    {
     "data": {
      "text/plain": [
       "[83.78289877972817,\n",
       " 83.58315920859181,\n",
       " -65.86416369027198,\n",
       " 86.71819345784802,\n",
       " 68.57237785287182,\n",
       " 74.05455088612591,\n",
       " -84.48493839762055,\n",
       " -71.29412687400293,\n",
       " -20.92403611600632,\n",
       " 24.47688036159406]"
      ]
     },
     "execution_count": 15,
     "metadata": {},
     "output_type": "execute_result"
    }
   ],
   "source": [
    "x = 0\n",
    "longitudes = []\n",
    "while x < 10:\n",
    "    rand_long = random.randint(-90, 89) + random.random()\n",
    "    longitudes.append(rand_long)\n",
    "    x += 1\n",
    "\n",
    "longitudes"
   ]
  },
  {
   "cell_type": "code",
   "execution_count": 26,
   "id": "bcf543e8",
   "metadata": {},
   "outputs": [
    {
     "name": "stdout",
     "output_type": "stream",
     "text": [
      "187 ns ± 0.86 ns per loop (mean ± std. dev. of 7 runs, 10000000 loops each)\n"
     ]
    },
    {
     "data": {
      "text/plain": [
       "<module 'timeit' from '/Users/patchworkchimera/opt/anaconda3/lib/python3.9/timeit.py'>"
      ]
     },
     "execution_count": 26,
     "metadata": {},
     "output_type": "execute_result"
    }
   ],
   "source": [
    "%timeit random.uniform(10,15)\n",
    "timeit"
   ]
  },
  {
   "cell_type": "code",
   "execution_count": 28,
   "id": "9ed26696",
   "metadata": {},
   "outputs": [
    {
     "data": {
      "text/plain": [
       "<zip at 0x7fc4686cab00>"
      ]
     },
     "execution_count": 28,
     "metadata": {},
     "output_type": "execute_result"
    }
   ],
   "source": [
    "# Import the dependencies.\n",
    "import pandas as pd\n",
    "import matplotlib.pyplot as plt\n",
    "import numpy as np\n",
    "\n",
    "# Create a set of random latitude and longitude combinations.\n",
    "lats = np.random.uniform(low=-90.000, high=90.000, size=1500)\n",
    "lngs = np.random.uniform(low=-180.000, high=180.000, size=1500)\n",
    "lat_lngs = zip(lats, lngs)\n",
    "lat_lngs"
   ]
  },
  {
   "cell_type": "code",
   "execution_count": null,
   "id": "2764566a",
   "metadata": {},
   "outputs": [],
   "source": []
  }
 ],
 "metadata": {
  "kernelspec": {
   "display_name": "PythonData",
   "language": "python",
   "name": "pythondata"
  },
  "language_info": {
   "codemirror_mode": {
    "name": "ipython",
    "version": 3
   },
   "file_extension": ".py",
   "mimetype": "text/x-python",
   "name": "python",
   "nbconvert_exporter": "python",
   "pygments_lexer": "ipython3",
   "version": "3.9.7"
  }
 },
 "nbformat": 4,
 "nbformat_minor": 5
}
