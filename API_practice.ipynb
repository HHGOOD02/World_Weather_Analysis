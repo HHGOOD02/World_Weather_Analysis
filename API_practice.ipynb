{
 "cells": [
  {
   "cell_type": "code",
   "execution_count": 16,
   "id": "2ab61694",
   "metadata": {},
   "outputs": [],
   "source": [
    "import pandas as pd \n",
    "import numpy as np\n",
    "from citipy import citipy"
   ]
  },
  {
   "cell_type": "code",
   "execution_count": 17,
   "id": "a740b647",
   "metadata": {},
   "outputs": [],
   "source": [
    "latitudes = [25.12903645, 25.92017388, 26.62509167, -59.98969384, 37.30571269]\n",
    "longitudes = [-67.59741259, 11.09532135, 74.84233102, -76.89176677, -61.13376282]\n",
    "lat_long = zip(latitudes, longitudes)"
   ]
  },
  {
   "cell_type": "code",
   "execution_count": 18,
   "id": "ab316137",
   "metadata": {},
   "outputs": [],
   "source": [
    "coords = list(lat_long)"
   ]
  },
  {
   "cell_type": "code",
   "execution_count": 19,
   "id": "d1cbb98e",
   "metadata": {},
   "outputs": [
    {
     "name": "stdout",
     "output_type": "stream",
     "text": [
      "25.12903645 -67.59741259\n",
      "25.92017388 11.09532135\n",
      "26.62509167 74.84233102\n",
      "-59.98969384 -76.89176677\n",
      "37.30571269 -61.13376282\n"
     ]
    }
   ],
   "source": [
    "for coord in coords:\n",
    "    print(coord[0], coord[1])"
   ]
  },
  {
   "cell_type": "code",
   "execution_count": 20,
   "id": "f18396e8",
   "metadata": {},
   "outputs": [
    {
     "name": "stdout",
     "output_type": "stream",
     "text": [
      "cockburn town tc\n",
      "gat ly\n",
      "parvatsar in\n",
      "punta arenas cl\n",
      "saint george bm\n"
     ]
    }
   ],
   "source": [
    "for coord in coords:\n",
    "    print(citipy.nearest_city(coord[0],coord[1]).city_name,\n",
    "          citipy.nearest_city(coord[0],coord[1]).country_code)"
   ]
  },
  {
   "cell_type": "code",
   "execution_count": null,
   "id": "8f3cb8df",
   "metadata": {},
   "outputs": [],
   "source": []
  }
 ],
 "metadata": {
  "kernelspec": {
   "display_name": "PythonData",
   "language": "python",
   "name": "pythondata"
  },
  "language_info": {
   "codemirror_mode": {
    "name": "ipython",
    "version": 3
   },
   "file_extension": ".py",
   "mimetype": "text/x-python",
   "name": "python",
   "nbconvert_exporter": "python",
   "pygments_lexer": "ipython3",
   "version": "3.9.7"
  }
 },
 "nbformat": 4,
 "nbformat_minor": 5
}
