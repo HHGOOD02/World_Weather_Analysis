{
 "cells": [
  {
   "cell_type": "code",
   "execution_count": 1,
   "id": "9952aea3",
   "metadata": {},
   "outputs": [],
   "source": [
    "#Dependencies\n",
    "import pandas as pd\n",
    "import numpy as np\n",
    "from citipy import citipy as cp\n",
    "import requests\n",
    "from config import weather_api_key"
   ]
  },
  {
   "cell_type": "code",
   "execution_count": 2,
   "id": "9cddd799",
   "metadata": {},
   "outputs": [],
   "source": [
    "#Generating 1500 random latitude:longitude keypairs\n",
    "lats = np.random.uniform(-90, 89, size=1500)\n",
    "longs = np.random.uniform(-90, 89, size=1500)\n",
    "lat_lngs = zip(lats, longs)"
   ]
  },
  {
   "cell_type": "code",
   "execution_count": 3,
   "id": "e7ac49a5",
   "metadata": {},
   "outputs": [
    {
     "data": {
      "text/plain": [
       "603"
      ]
     },
     "execution_count": 3,
     "metadata": {},
     "output_type": "execute_result"
    }
   ],
   "source": [
    "#Creating a big list of cities\n",
    "coordinates = list(lat_lngs)\n",
    "cities = []\n",
    "\n",
    "for coord in coordinates:\n",
    "    city = cp.nearest_city(coord[0], coord[1]).city_name\n",
    "    \n",
    "    if city not in cities:\n",
    "        cities.append(city)\n",
    "    \n",
    "len(cities)"
   ]
  },
  {
   "cell_type": "code",
   "execution_count": 4,
   "id": "daecacf3",
   "metadata": {},
   "outputs": [
    {
     "name": "stdout",
     "output_type": "stream",
     "text": [
      "http://api.openweathermap.org/data/2.5/weather?units=Imperial&APPID=b314b3c7f113a90ed38264129da92944\n"
     ]
    }
   ],
   "source": [
    "# Starting URL for Weather Map API Call.\n",
    "url = \"http://api.openweathermap.org/data/2.5/weather?units=Imperial&APPID=\" + weather_api_key\n",
    "print(url)"
   ]
  },
  {
   "cell_type": "code",
   "execution_count": 5,
   "id": "4677d3c1",
   "metadata": {},
   "outputs": [
    {
     "name": "stdout",
     "output_type": "stream",
     "text": [
      "http://api.openweathermap.org/data/2.5/weather?units=Imperial&APPID=b314b3c7f113a90ed38264129da92944&q=Boston\n"
     ]
    }
   ],
   "source": [
    "city_url = url + \"&q=\" + \"Boston\"\n",
    "print(city_url)"
   ]
  },
  {
   "cell_type": "code",
   "execution_count": 6,
   "id": "b9da87dc",
   "metadata": {},
   "outputs": [
    {
     "data": {
      "text/plain": [
       "<Response [200]>"
      ]
     },
     "execution_count": 6,
     "metadata": {},
     "output_type": "execute_result"
    }
   ],
   "source": [
    "weather_df = pd.DataFrame()\n",
    "\n",
    "get_test = requests.get(city_url)\n",
    "get_test"
   ]
  },
  {
   "cell_type": "code",
   "execution_count": 7,
   "id": "7b82d796",
   "metadata": {},
   "outputs": [
    {
     "data": {
      "text/plain": [
       "{'coord': {'lon': -71.0598, 'lat': 42.3584},\n",
       " 'weather': [{'id': 804,\n",
       "   'main': 'Clouds',\n",
       "   'description': 'overcast clouds',\n",
       "   'icon': '04n'}],\n",
       " 'base': 'stations',\n",
       " 'main': {'temp': 56.52,\n",
       "  'feels_like': 56.05,\n",
       "  'temp_min': 54.28,\n",
       "  'temp_max': 59.13,\n",
       "  'pressure': 1010,\n",
       "  'humidity': 89},\n",
       " 'visibility': 10000,\n",
       " 'wind': {'speed': 10, 'deg': 287, 'gust': 0},\n",
       " 'clouds': {'all': 100},\n",
       " 'dt': 1654220206,\n",
       " 'sys': {'type': 2,\n",
       "  'id': 2013408,\n",
       "  'country': 'US',\n",
       "  'sunrise': 1654160985,\n",
       "  'sunset': 1654215304},\n",
       " 'timezone': -14400,\n",
       " 'id': 4930956,\n",
       " 'name': 'Boston',\n",
       " 'cod': 200}"
      ]
     },
     "execution_count": 7,
     "metadata": {},
     "output_type": "execute_result"
    }
   ],
   "source": [
    "get_test.json()"
   ]
  },
  {
   "cell_type": "code",
   "execution_count": 8,
   "id": "44e1e766",
   "metadata": {},
   "outputs": [
    {
     "name": "stdout",
     "output_type": "stream",
     "text": [
      "City Weather found.\n"
     ]
    },
    {
     "data": {
      "text/plain": [
       "{'coord': {'lon': -71.0598, 'lat': 42.3584},\n",
       " 'weather': [{'id': 804,\n",
       "   'main': 'Clouds',\n",
       "   'description': 'overcast clouds',\n",
       "   'icon': '04n'}],\n",
       " 'base': 'stations',\n",
       " 'main': {'temp': 56.52,\n",
       "  'feels_like': 56.05,\n",
       "  'temp_min': 54.28,\n",
       "  'temp_max': 59.13,\n",
       "  'pressure': 1010,\n",
       "  'humidity': 89},\n",
       " 'visibility': 10000,\n",
       " 'wind': {'speed': 10, 'deg': 287, 'gust': 0},\n",
       " 'clouds': {'all': 100},\n",
       " 'dt': 1654220206,\n",
       " 'sys': {'type': 2,\n",
       "  'id': 2013408,\n",
       "  'country': 'US',\n",
       "  'sunrise': 1654160985,\n",
       "  'sunset': 1654215304},\n",
       " 'timezone': -14400,\n",
       " 'id': 4930956,\n",
       " 'name': 'Boston',\n",
       " 'cod': 200}"
      ]
     },
     "execution_count": 8,
     "metadata": {},
     "output_type": "execute_result"
    }
   ],
   "source": [
    "# Create an endpoint URL for a city.\n",
    "city_url = url + \"&q=\" + \"Boston\"\n",
    "city_weather = requests.get(city_url)\n",
    "if city_weather.status_code == 200:\n",
    "    print(f\"City Weather found.\")\n",
    "else:\n",
    "    print(f\"City weather not found.\")\n",
    "city_weather.json()"
   ]
  },
  {
   "cell_type": "code",
   "execution_count": 9,
   "id": "328a9abe",
   "metadata": {},
   "outputs": [],
   "source": [
    "boston_data = city_weather.json()"
   ]
  },
  {
   "cell_type": "code",
   "execution_count": 10,
   "id": "73459443",
   "metadata": {},
   "outputs": [
    {
     "data": {
      "text/plain": [
       "{'type': 2,\n",
       " 'id': 2013408,\n",
       " 'country': 'US',\n",
       " 'sunrise': 1654160985,\n",
       " 'sunset': 1654215304}"
      ]
     },
     "execution_count": 10,
     "metadata": {},
     "output_type": "execute_result"
    }
   ],
   "source": [
    "boston_data[\"sys\"]"
   ]
  },
  {
   "cell_type": "code",
   "execution_count": 11,
   "id": "d0eaab39",
   "metadata": {},
   "outputs": [
    {
     "name": "stdout",
     "output_type": "stream",
     "text": [
      "barbar removed due to bad response code.\n",
      "taolanaro removed due to bad response code.\n",
      "tsihombe removed due to bad response code.\n",
      "illoqqortoormiut removed due to bad response code.\n",
      "belushya guba removed due to bad response code.\n",
      "amderma removed due to bad response code.\n",
      "dianopolis removed due to bad response code.\n",
      "barentsburg removed due to bad response code.\n",
      "warqla removed due to bad response code.\n",
      "marcona removed due to bad response code.\n",
      "bolshoy tsaryn removed due to bad response code.\n",
      "wahran removed due to bad response code.\n",
      "kuche removed due to bad response code.\n",
      "sorvag removed due to bad response code.\n",
      "gilgil removed due to bad response code.\n",
      "jiddah removed due to bad response code.\n",
      "toliary removed due to bad response code.\n",
      "ambodifototra removed due to bad response code.\n",
      "karaul removed due to bad response code.\n",
      "duz removed due to bad response code.\n",
      "cumaribo removed due to bad response code.\n",
      "grand river south east removed due to bad response code.\n",
      "attawapiskat removed due to bad response code.\n",
      "azimur removed due to bad response code.\n",
      "umzimvubu removed due to bad response code.\n",
      "bolungarvik removed due to bad response code.\n",
      "yusva removed due to bad response code.\n",
      "tumannyy removed due to bad response code.\n",
      "karkaralinsk removed due to bad response code.\n",
      "burica removed due to bad response code.\n",
      "andevoranto removed due to bad response code.\n",
      "bababe removed due to bad response code.\n",
      "kollumerland removed due to bad response code.\n",
      "handwara removed due to bad response code.\n",
      "aakirkeby removed due to bad response code.\n",
      "bossembele removed due to bad response code.\n",
      "skagastrond removed due to bad response code.\n",
      "qabis removed due to bad response code.\n",
      "takob removed due to bad response code.\n",
      "aflu removed due to bad response code.\n",
      "armacao dos buzios removed due to bad response code.\n",
      "mullaitivu removed due to bad response code.\n",
      "kazalinsk removed due to bad response code.\n",
      "tostamaa removed due to bad response code.\n",
      "mrirt removed due to bad response code.\n",
      "umm durman removed due to bad response code.\n",
      "ozgon removed due to bad response code.\n",
      "yeletskiy removed due to bad response code.\n",
      "deh rawud removed due to bad response code.\n",
      "asayita removed due to bad response code.\n",
      "westpunt removed due to bad response code.\n",
      "hunza removed due to bad response code.\n",
      "skalistyy removed due to bad response code.\n"
     ]
    },
    {
     "data": {
      "text/html": [
       "<div>\n",
       "<style scoped>\n",
       "    .dataframe tbody tr th:only-of-type {\n",
       "        vertical-align: middle;\n",
       "    }\n",
       "\n",
       "    .dataframe tbody tr th {\n",
       "        vertical-align: top;\n",
       "    }\n",
       "\n",
       "    .dataframe thead th {\n",
       "        text-align: right;\n",
       "    }\n",
       "</style>\n",
       "<table border=\"1\" class=\"dataframe\">\n",
       "  <thead>\n",
       "    <tr style=\"text-align: right;\">\n",
       "      <th></th>\n",
       "      <th>Name</th>\n",
       "      <th>Country</th>\n",
       "      <th>Date</th>\n",
       "      <th>Lat</th>\n",
       "      <th>Lng</th>\n",
       "      <th>Max Temp</th>\n",
       "      <th>Humidity</th>\n",
       "      <th>Cloudiness</th>\n",
       "      <th>Wind Speed</th>\n",
       "    </tr>\n",
       "  </thead>\n",
       "  <tbody>\n",
       "    <tr>\n",
       "      <th>0</th>\n",
       "      <td>aguimes</td>\n",
       "      <td>ES</td>\n",
       "      <td>2022-06-03 01:36:01</td>\n",
       "      <td>27.9054</td>\n",
       "      <td>-15.4461</td>\n",
       "      <td>66.83</td>\n",
       "      <td>68</td>\n",
       "      <td>40</td>\n",
       "      <td>15.01</td>\n",
       "    </tr>\n",
       "    <tr>\n",
       "      <th>1</th>\n",
       "      <td>berlevag</td>\n",
       "      <td>NO</td>\n",
       "      <td>2022-06-03 01:34:37</td>\n",
       "      <td>70.8578</td>\n",
       "      <td>29.0864</td>\n",
       "      <td>44.40</td>\n",
       "      <td>87</td>\n",
       "      <td>100</td>\n",
       "      <td>24.16</td>\n",
       "    </tr>\n",
       "    <tr>\n",
       "      <th>2</th>\n",
       "      <td>hermanus</td>\n",
       "      <td>ZA</td>\n",
       "      <td>2022-06-03 01:34:00</td>\n",
       "      <td>-34.4187</td>\n",
       "      <td>19.2345</td>\n",
       "      <td>44.80</td>\n",
       "      <td>70</td>\n",
       "      <td>0</td>\n",
       "      <td>5.48</td>\n",
       "    </tr>\n",
       "    <tr>\n",
       "      <th>3</th>\n",
       "      <td>jamestown</td>\n",
       "      <td>US</td>\n",
       "      <td>2022-06-03 01:40:31</td>\n",
       "      <td>42.0970</td>\n",
       "      <td>-79.2353</td>\n",
       "      <td>58.59</td>\n",
       "      <td>94</td>\n",
       "      <td>0</td>\n",
       "      <td>4.61</td>\n",
       "    </tr>\n",
       "    <tr>\n",
       "      <th>4</th>\n",
       "      <td>palmas</td>\n",
       "      <td>BR</td>\n",
       "      <td>2022-06-03 01:42:59</td>\n",
       "      <td>-10.2128</td>\n",
       "      <td>-48.3603</td>\n",
       "      <td>75.07</td>\n",
       "      <td>78</td>\n",
       "      <td>0</td>\n",
       "      <td>6.91</td>\n",
       "    </tr>\n",
       "    <tr>\n",
       "      <th>...</th>\n",
       "      <td>...</td>\n",
       "      <td>...</td>\n",
       "      <td>...</td>\n",
       "      <td>...</td>\n",
       "      <td>...</td>\n",
       "      <td>...</td>\n",
       "      <td>...</td>\n",
       "      <td>...</td>\n",
       "      <td>...</td>\n",
       "    </tr>\n",
       "    <tr>\n",
       "      <th>493</th>\n",
       "      <td>neunkirchen</td>\n",
       "      <td>DE</td>\n",
       "      <td>2022-06-03 01:46:27</td>\n",
       "      <td>49.3500</td>\n",
       "      <td>7.1833</td>\n",
       "      <td>56.25</td>\n",
       "      <td>59</td>\n",
       "      <td>0</td>\n",
       "      <td>11.50</td>\n",
       "    </tr>\n",
       "    <tr>\n",
       "      <th>494</th>\n",
       "      <td>cahors</td>\n",
       "      <td>FR</td>\n",
       "      <td>2022-06-03 01:46:28</td>\n",
       "      <td>44.4167</td>\n",
       "      <td>1.3333</td>\n",
       "      <td>59.70</td>\n",
       "      <td>81</td>\n",
       "      <td>100</td>\n",
       "      <td>5.95</td>\n",
       "    </tr>\n",
       "    <tr>\n",
       "      <th>495</th>\n",
       "      <td>ghazipur</td>\n",
       "      <td>IN</td>\n",
       "      <td>2022-06-03 01:46:28</td>\n",
       "      <td>25.5833</td>\n",
       "      <td>83.5667</td>\n",
       "      <td>99.00</td>\n",
       "      <td>18</td>\n",
       "      <td>0</td>\n",
       "      <td>5.99</td>\n",
       "    </tr>\n",
       "    <tr>\n",
       "      <th>496</th>\n",
       "      <td>la rioja</td>\n",
       "      <td>ES</td>\n",
       "      <td>2022-06-03 01:39:40</td>\n",
       "      <td>42.2500</td>\n",
       "      <td>-2.5000</td>\n",
       "      <td>60.58</td>\n",
       "      <td>49</td>\n",
       "      <td>100</td>\n",
       "      <td>2.42</td>\n",
       "    </tr>\n",
       "    <tr>\n",
       "      <th>497</th>\n",
       "      <td>senlis</td>\n",
       "      <td>FR</td>\n",
       "      <td>2022-06-03 01:46:29</td>\n",
       "      <td>49.2500</td>\n",
       "      <td>2.6667</td>\n",
       "      <td>57.38</td>\n",
       "      <td>65</td>\n",
       "      <td>51</td>\n",
       "      <td>4.56</td>\n",
       "    </tr>\n",
       "  </tbody>\n",
       "</table>\n",
       "<p>498 rows × 9 columns</p>\n",
       "</div>"
      ],
      "text/plain": [
       "            Name Country                 Date      Lat      Lng  Max Temp  \\\n",
       "0        aguimes      ES  2022-06-03 01:36:01  27.9054 -15.4461     66.83   \n",
       "1       berlevag      NO  2022-06-03 01:34:37  70.8578  29.0864     44.40   \n",
       "2       hermanus      ZA  2022-06-03 01:34:00 -34.4187  19.2345     44.80   \n",
       "3      jamestown      US  2022-06-03 01:40:31  42.0970 -79.2353     58.59   \n",
       "4         palmas      BR  2022-06-03 01:42:59 -10.2128 -48.3603     75.07   \n",
       "..           ...     ...                  ...      ...      ...       ...   \n",
       "493  neunkirchen      DE  2022-06-03 01:46:27  49.3500   7.1833     56.25   \n",
       "494       cahors      FR  2022-06-03 01:46:28  44.4167   1.3333     59.70   \n",
       "495     ghazipur      IN  2022-06-03 01:46:28  25.5833  83.5667     99.00   \n",
       "496     la rioja      ES  2022-06-03 01:39:40  42.2500  -2.5000     60.58   \n",
       "497       senlis      FR  2022-06-03 01:46:29  49.2500   2.6667     57.38   \n",
       "\n",
       "     Humidity  Cloudiness  Wind Speed  \n",
       "0          68          40       15.01  \n",
       "1          87         100       24.16  \n",
       "2          70           0        5.48  \n",
       "3          94           0        4.61  \n",
       "4          78           0        6.91  \n",
       "..        ...         ...         ...  \n",
       "493        59           0       11.50  \n",
       "494        81         100        5.95  \n",
       "495        18           0        5.99  \n",
       "496        49         100        2.42  \n",
       "497        65          51        4.56  \n",
       "\n",
       "[498 rows x 9 columns]"
      ]
     },
     "execution_count": 11,
     "metadata": {},
     "output_type": "execute_result"
    }
   ],
   "source": [
    "from datetime import datetime\n",
    "\n",
    "#Initializing series that we'll use in our dataframe later\n",
    "city_names = []\n",
    "country_codes = []\n",
    "city_times = []\n",
    "city_lat = []\n",
    "city_long = []\n",
    "city_maxtemp = []\n",
    "city_humidity = []\n",
    "city_cloudiness = []\n",
    "city_windspd = []\n",
    "\n",
    "\n",
    "for city in cities:\n",
    "    #Iterating through cities and posting a get req\n",
    "    city_url = url + \"&q=\" + city\n",
    "    city_return = requests.get(city_url)\n",
    "    \n",
    "    if city_return.status_code == 200:\n",
    "        \n",
    "        #Getting a json var to reference later\n",
    "        city_json = city_return.json()\n",
    "        \n",
    "        #Outputting date + time to series\n",
    "        timestamp = city_json[\"dt\"]\n",
    "        read_time = datetime.utcfromtimestamp(timestamp).strftime('%Y-%m-%d %H:%M:%S')\n",
    "        city_times.append(read_time)\n",
    "        \n",
    "        #Outputting city name to series\n",
    "        city_names.append(city)\n",
    "        \n",
    "        #Outputting country code to series\n",
    "        country_codes.append(city_json[\"sys\"][\"country\"])\n",
    "        \n",
    "        #Outputting lat and long to series\n",
    "        city_lat.append(city_json[\"coord\"][\"lat\"])\n",
    "        city_long.append(city_json[\"coord\"][\"lon\"])\n",
    "        \n",
    "        #Outputting max temperature to series\n",
    "        city_maxtemp.append(city_json[\"main\"][\"temp_max\"])\n",
    "        \n",
    "        #Outputting humidity to series\n",
    "        city_humidity.append(city_json[\"main\"][\"humidity\"])\n",
    "        \n",
    "        #Outputting cloudiness to series\n",
    "        city_cloudiness.append(city_json[\"clouds\"][\"all\"])\n",
    "\n",
    "        #Outputting wind speed to series\n",
    "        city_windspd.append(city_json[\"wind\"][\"speed\"])\n",
    "        \n",
    "    else: \n",
    "        print(city + \" removed due to bad response code.\")\n",
    "        cities.remove(city)\n",
    "        \n",
    "cities_df = pd.DataFrame()\n",
    "\n",
    "cities_df[\"Name\"] = city_names\n",
    "cities_df[\"Country\"] = country_codes\n",
    "cities_df[\"Date\"] = city_times\n",
    "cities_df[\"Lat\"] = city_lat\n",
    "cities_df[\"Lng\"] = city_long\n",
    "cities_df[\"Max Temp\"] = city_maxtemp\n",
    "cities_df[\"Humidity\"] = city_humidity\n",
    "cities_df[\"Cloudiness\"] = city_cloudiness\n",
    "cities_df[\"Wind Speed\"] = city_windspd\n",
    "\n",
    "cities_df"
   ]
  },
  {
   "cell_type": "code",
   "execution_count": 14,
   "id": "56c6cf4b",
   "metadata": {},
   "outputs": [],
   "source": [
    "# Create the output file (CSV).\n",
    "output_data_file = \"weather_data/cities.csv\"\n",
    "# Export the City_Data into a CSV.\n",
    "cities_df.to_csv(output_data_file, index_label=\"City_ID\")"
   ]
  },
  {
   "cell_type": "code",
   "execution_count": null,
   "id": "1236a6d0",
   "metadata": {},
   "outputs": [],
   "source": []
  }
 ],
 "metadata": {
  "kernelspec": {
   "display_name": "PythonData",
   "language": "python",
   "name": "pythondata"
  },
  "language_info": {
   "codemirror_mode": {
    "name": "ipython",
    "version": 3
   },
   "file_extension": ".py",
   "mimetype": "text/x-python",
   "name": "python",
   "nbconvert_exporter": "python",
   "pygments_lexer": "ipython3",
   "version": "3.9.7"
  }
 },
 "nbformat": 4,
 "nbformat_minor": 5
}
