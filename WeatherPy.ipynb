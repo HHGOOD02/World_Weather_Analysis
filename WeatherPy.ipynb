{
 "cells": [
  {
   "cell_type": "code",
   "execution_count": 19,
   "id": "9952aea3",
   "metadata": {},
   "outputs": [],
   "source": [
    "import pandas as pd\n",
    "import numpy as np\n",
    "from citipy import citipy as cp"
   ]
  },
  {
   "cell_type": "code",
   "execution_count": 20,
   "id": "9cddd799",
   "metadata": {},
   "outputs": [],
   "source": [
    "lats = np.random.uniform(-90, 89, size=1500)\n",
    "longs = np.random.uniform(-90, 89, size=1500)\n",
    "lat_lngs = zip(lats, longs)"
   ]
  },
  {
   "cell_type": "code",
   "execution_count": 21,
   "id": "e7ac49a5",
   "metadata": {},
   "outputs": [
    {
     "data": {
      "text/plain": [
       "615"
      ]
     },
     "execution_count": 21,
     "metadata": {},
     "output_type": "execute_result"
    }
   ],
   "source": [
    "coordinates = list(lat_lngs)\n",
    "cities = []\n",
    "\n",
    "for coord in coordinates:\n",
    "    city = cp.nearest_city(coord[0], coord[1]).city_name\n",
    "    \n",
    "    if city not in cities:\n",
    "        cities.append(city)\n",
    "    \n",
    "len(cities)"
   ]
  },
  {
   "cell_type": "code",
   "execution_count": null,
   "id": "daecacf3",
   "metadata": {},
   "outputs": [],
   "source": []
  }
 ],
 "metadata": {
  "kernelspec": {
   "display_name": "PythonData",
   "language": "python",
   "name": "pythondata"
  },
  "language_info": {
   "codemirror_mode": {
    "name": "ipython",
    "version": 3
   },
   "file_extension": ".py",
   "mimetype": "text/x-python",
   "name": "python",
   "nbconvert_exporter": "python",
   "pygments_lexer": "ipython3",
   "version": "3.9.7"
  }
 },
 "nbformat": 4,
 "nbformat_minor": 5
}
